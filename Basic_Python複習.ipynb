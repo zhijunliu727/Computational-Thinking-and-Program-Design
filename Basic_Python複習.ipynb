{
  "nbformat": 4,
  "nbformat_minor": 0,
  "metadata": {
    "kernelspec": {
      "display_name": "Python 3",
      "language": "python",
      "name": "python3"
    },
    "language_info": {
      "codemirror_mode": {
        "name": "ipython",
        "version": 3
      },
      "file_extension": ".py",
      "mimetype": "text/x-python",
      "name": "python",
      "nbconvert_exporter": "python",
      "pygments_lexer": "ipython3",
      "version": "3.7.4"
    },
    "colab": {
      "name": "Basic Python複習.ipynb",
      "provenance": []
    }
  },
  "cells": [
    {
      "cell_type": "markdown",
      "metadata": {
        "id": "sN926QvsGUXO",
        "colab_type": "text"
      },
      "source": [
        "### LBD 1: 請設計一個程式計算圓面積與圓周長，依輸入的半徑計算圓面積與圓周長。"
      ]
    },
    {
      "cell_type": "code",
      "metadata": {
        "id": "2-slz5kVGUXP",
        "colab_type": "code",
        "colab": {
          "base_uri": "https://localhost:8080/",
          "height": 50
        },
        "outputId": "abaa27a6-2fbf-4ccc-a013-7566e6a94209"
      },
      "source": [
        "半徑=float(input('請輸入半徑'))\n",
        "PI=3.14159\n",
        "\n",
        "圓周長=2*PI*半徑\n",
        "圓面積=半徑*半徑*PI\n",
        "\n",
        "print('圓周長為',圓周長,'圓面積為',圓面積)"
      ],
      "execution_count": 9,
      "outputs": [
        {
          "output_type": "stream",
          "text": [
            "請輸入半徑10\n",
            "圓周長為 62.8318 圓面積為 314.159\n"
          ],
          "name": "stdout"
        }
      ]
    },
    {
      "cell_type": "markdown",
      "metadata": {
        "id": "oOcVBQ0qGUXS",
        "colab_type": "text"
      },
      "source": [
        "### LBD 2: 請設計一個程式將輸入的攝氏溫度轉成華氏溫度，轉換公式如下:華氏溫度= 攝氏溫度*9/5+32"
      ]
    },
    {
      "cell_type": "code",
      "metadata": {
        "id": "I2-ot2oLGUXT",
        "colab_type": "code",
        "colab": {
          "base_uri": "https://localhost:8080/",
          "height": 67
        },
        "outputId": "ea81942c-968c-43fa-dc66-15c4eff41db1"
      },
      "source": [
        "C=float(input('輸入攝氏溫度'))\n",
        "\n",
        "f=C*9/5+32\n",
        "print('華氏溫度為',f)\n",
        "\n",
        "#延伸1:華氏轉攝氏\n",
        "c1=(f-32)*(5/9)\n",
        "print(\"攝氏溫度\",c1)"
      ],
      "execution_count": 10,
      "outputs": [
        {
          "output_type": "stream",
          "text": [
            "輸入攝氏溫度25\n",
            "華氏溫度為 77.0\n",
            "攝氏溫度 25.0\n"
          ],
          "name": "stdout"
        }
      ]
    },
    {
      "cell_type": "markdown",
      "metadata": {
        "id": "c14IvE9CGUXY",
        "colab_type": "text"
      },
      "source": [
        "### LBD 3: 假設上衣300元、褲子350元與背心400元，使用者可以自行輸入三種服裝的數量，請設計一個程式計算訂購服裝的總金額。"
      ]
    },
    {
      "cell_type": "code",
      "metadata": {
        "id": "2LaEyo0eGUXZ",
        "colab_type": "code",
        "colab": {
          "base_uri": "https://localhost:8080/",
          "height": 84
        },
        "outputId": "2718d6d0-fe09-4db0-a309-20260e809ff3"
      },
      "source": [
        "上衣=int(input('請輸入上衣數量'))\n",
        "褲子=int(input('請輸入褲子數量'))\n",
        "背心=int(input('請輸入背心數量'))\n",
        "\n",
        "總金額=上衣*300+褲子*350+背心*400\n",
        "\n",
        "print('訂購服裝總金額為',總金額)"
      ],
      "execution_count": 11,
      "outputs": [
        {
          "output_type": "stream",
          "text": [
            "請輸入上衣數量1\n",
            "請輸入褲子數量2\n",
            "請輸入背心數量3\n",
            "訂購服裝總金額為 2200\n"
          ],
          "name": "stdout"
        }
      ]
    },
    {
      "cell_type": "markdown",
      "metadata": {
        "id": "fRsgdKMxGUXc",
        "colab_type": "text"
      },
      "source": [
        "### LBD 4: 為了刺激銷售量，賣場通常買一打會比買一罐便宜，假設一罐賣20元，一打賣200元，請設計一個程式計算買幾罐需花多少錢，若不足一打就個別買。"
      ]
    },
    {
      "cell_type": "code",
      "metadata": {
        "id": "HAqDX3vrGUXd",
        "colab_type": "code",
        "colab": {
          "base_uri": "https://localhost:8080/",
          "height": 50
        },
        "outputId": "4aecff95-611e-4709-e3a8-020ef2b8dacb"
      },
      "source": [
        "罐數=int(input('輸入購買飲料的總數?'))\n",
        "\n",
        "金額=(罐數//12)*200+(罐數%12)*20\n",
        "\n",
        "print('需花費',金額)"
      ],
      "execution_count": 12,
      "outputs": [
        {
          "output_type": "stream",
          "text": [
            "輸入購買飲料的總數?11\n",
            "需花費 220\n"
          ],
          "name": "stdout"
        }
      ]
    },
    {
      "cell_type": "markdown",
      "metadata": {
        "id": "D2HCggJ1GUXf",
        "colab_type": "text"
      },
      "source": [
        "### LBD 5: 請輸入第一次期中考、第二次期中考與期末考成績，成績皆為整數，請計算分數的加總與平均。"
      ]
    },
    {
      "cell_type": "code",
      "metadata": {
        "id": "-mLPMTskGUXg",
        "colab_type": "code",
        "colab": {
          "base_uri": "https://localhost:8080/",
          "height": 101
        },
        "outputId": "3d1a44d0-2799-4437-872a-40fae61a54a5"
      },
      "source": [
        "第一次期中考成績=int(input('請輸入第一次期中考成績'))\n",
        "第二次期中考成績=int(input('請輸入第二次期中考成績'))\n",
        "期末考成績=int(input('請輸入期末考成績'))\n",
        "\n",
        "總分=第一次期中考成績+第二次期中考成績+期末考成績\n",
        "平均=(第一次期中考成績+第二次期中考成績+期末考成績)/3\n",
        "\n",
        "print('總分',總分)\n",
        "print('平均',平均)"
      ],
      "execution_count": 13,
      "outputs": [
        {
          "output_type": "stream",
          "text": [
            "請輸入第一次期中考成績50\n",
            "請輸入第二次期中考成績60\n",
            "請輸入期末考成績70\n",
            "總分 180\n",
            "平均 60.0\n"
          ],
          "name": "stdout"
        }
      ]
    },
    {
      "cell_type": "code",
      "metadata": {
        "id": "e-L1lgz4GUXj",
        "colab_type": "code",
        "colab": {}
      },
      "source": [
        ""
      ],
      "execution_count": 0,
      "outputs": []
    }
  ]
}