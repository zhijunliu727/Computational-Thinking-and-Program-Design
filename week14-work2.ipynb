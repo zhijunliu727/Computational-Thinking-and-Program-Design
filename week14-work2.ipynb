{
  "nbformat": 4,
  "nbformat_minor": 0,
  "metadata": {
    "colab": {
      "name": "Untitled16.ipynb",
      "provenance": []
    },
    "kernelspec": {
      "name": "python3",
      "display_name": "Python 3"
    }
  },
  "cells": [
    {
      "cell_type": "code",
      "metadata": {
        "id": "p5pRhm2D3xVY",
        "colab_type": "code",
        "outputId": "e1c82b58-59c9-47bc-ea76-5a77d629124e",
        "colab": {
          "base_uri": "https://localhost:8080/",
          "height": 199
        }
      },
      "source": [
        "n = 0\n",
        "while n < 10:\n",
        "        print(\"Hello，你好嗎！\")\n",
        "        n = n + 1"
      ],
      "execution_count": 0,
      "outputs": [
        {
          "output_type": "stream",
          "text": [
            "Hello，你好嗎！\n",
            "Hello，你好嗎！\n",
            "Hello，你好嗎！\n",
            "Hello，你好嗎！\n",
            "Hello，你好嗎！\n",
            "Hello，你好嗎！\n",
            "Hello，你好嗎！\n",
            "Hello，你好嗎！\n",
            "Hello，你好嗎！\n",
            "Hello，你好嗎！\n"
          ],
          "name": "stdout"
        }
      ]
    }
  ]
}