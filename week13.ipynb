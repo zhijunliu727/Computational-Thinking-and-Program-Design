{
  "nbformat": 4,
  "nbformat_minor": 0,
  "metadata": {
    "colab": {
      "name": "week13.ipynb",
      "provenance": []
    },
    "kernelspec": {
      "name": "python3",
      "display_name": "Python 3"
    }
  },
  "cells": [
    {
      "cell_type": "code",
      "metadata": {
        "id": "HTfBfLCT51LW",
        "colab_type": "code",
        "colab": {
          "base_uri": "https://localhost:8080/",
          "height": 51
        },
        "outputId": "2b58af19-c578-4fbf-8bc3-c8e673bec995"
      },
      "source": [
        "score = int(input(\"請輸入成績\"))\n",
        "if score >= 80:\n",
        "        print(\"非常好\")\n",
        "if 80 > score >= 60:\n",
        "        print(\"不錯喔\")\n",
        "if score < 60:\n",
        "        print(\"要加油\")"
      ],
      "execution_count": 1,
      "outputs": [
        {
          "output_type": "stream",
          "text": [
            "請輸入成績88\n",
            "非常好\n"
          ],
          "name": "stdout"
        }
      ]
    },
    {
      "cell_type": "code",
      "metadata": {
        "id": "HI_T4D3754hx",
        "colab_type": "code",
        "colab": {
          "base_uri": "https://localhost:8080/",
          "height": 51
        },
        "outputId": "01543912-1f8d-411d-fdab-17a6bdac6e48"
      },
      "source": [
        "score = int(input(\"請輸入成績\"))\n",
        "if score >= 80:\n",
        "          print(\"非常好\")\n",
        "else:\n",
        "          if score >=60 :\n",
        "                  print(\"不錯喔\")\n",
        "          else:\n",
        "                  print(\"要加油\")"
      ],
      "execution_count": 2,
      "outputs": [
        {
          "output_type": "stream",
          "text": [
            "請輸入成績55\n",
            "要加油\n"
          ],
          "name": "stdout"
        }
      ]
    },
    {
      "cell_type": "code",
      "metadata": {
        "id": "SvVB6Wny6A5u",
        "colab_type": "code",
        "colab": {
          "base_uri": "https://localhost:8080/",
          "height": 51
        },
        "outputId": "9bb31931-eade-48bb-b94d-fdce5b86f447"
      },
      "source": [
        "score = int(input(\"請輸入成績\"))\n",
        "if score >=80:\n",
        "          print(\"非常好\")\n",
        "elif score >= 60:\n",
        "          print(\"不錯喔\")\n",
        "else :\n",
        "          print(\"要加油\")"
      ],
      "execution_count": 3,
      "outputs": [
        {
          "output_type": "stream",
          "text": [
            "請輸入成績25\n",
            "要加油\n"
          ],
          "name": "stdout"
        }
      ]
    },
    {
      "cell_type": "code",
      "metadata": {
        "id": "izLVwppG6GKS",
        "colab_type": "code",
        "colab": {}
      },
      "source": [
        ""
      ],
      "execution_count": 0,
      "outputs": []
    }
  ]
}