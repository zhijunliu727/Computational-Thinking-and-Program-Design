{
  "nbformat": 4,
  "nbformat_minor": 0,
  "metadata": {
    "colab": {
      "name": "Untitled15.ipynb",
      "provenance": []
    },
    "kernelspec": {
      "name": "python3",
      "display_name": "Python 3"
    }
  },
  "cells": [
    {
      "cell_type": "code",
      "metadata": {
        "id": "jv0EctMPzb4m",
        "colab_type": "code",
        "outputId": "97038f62-ceed-43b8-adcb-e7d00194db3b",
        "colab": {
          "base_uri": "https://localhost:8080/",
          "height": 34
        }
      },
      "source": [
        "height = float(input(\"請輸入身高,單位為公尺\"))"
      ],
      "execution_count": 1,
      "outputs": [
        {
          "output_type": "stream",
          "text": [
            "請輸入身高,單位為公尺1.6\n"
          ],
          "name": "stdout"
        }
      ]
    },
    {
      "cell_type": "code",
      "metadata": {
        "id": "u494KJf0zqZ7",
        "colab_type": "code",
        "outputId": "1a6dea30-1584-4fe0-9daa-b2a7cc3f1e5e",
        "colab": {
          "base_uri": "https://localhost:8080/",
          "height": 34
        }
      },
      "source": [
        "weight = float(input(\"請輸入體重,單位為公斤\"))"
      ],
      "execution_count": 2,
      "outputs": [
        {
          "output_type": "stream",
          "text": [
            "請輸入體重,單位為公斤75\n"
          ],
          "name": "stdout"
        }
      ]
    },
    {
      "cell_type": "code",
      "metadata": {
        "id": "vYgu6yjhzzYK",
        "colab_type": "code",
        "outputId": "9ba1b9f2-f243-47cd-901e-30f84b1002aa",
        "colab": {
          "base_uri": "https://localhost:8080/",
          "height": 50
        }
      },
      "source": [
        "BMI = weight / (height * height)\n",
        "print(BMI)\n",
        "if BMI >= 30:\n",
        "        print(\"肥胖\")\n",
        "if 30 > BMI >= 25:\n",
        "        print(\"體重過重\")\n",
        "if 25 > BMI >= 18.5:\n",
        "        print(\"體重正常(健康體重)\")\n",
        "if 18.5 > BMI >= 16:\n",
        "        print(\"體重過輕\")\n"
      ],
      "execution_count": 3,
      "outputs": [
        {
          "output_type": "stream",
          "text": [
            "29.296874999999993\n",
            "體重過重\n"
          ],
          "name": "stdout"
        }
      ]
    },
    {
      "cell_type": "code",
      "metadata": {
        "id": "b3i4773-Fgwz",
        "colab_type": "code",
        "colab": {}
      },
      "source": [
        ""
      ],
      "execution_count": 0,
      "outputs": []
    }
  ]
}