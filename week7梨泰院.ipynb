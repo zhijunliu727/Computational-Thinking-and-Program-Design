{
  "nbformat": 4,
  "nbformat_minor": 0,
  "metadata": {
    "colab": {
      "name": "week7梨泰院.ipynb",
      "provenance": [],
      "collapsed_sections": []
    },
    "kernelspec": {
      "name": "python3",
      "display_name": "Python 3"
    }
  },
  "cells": [
    {
      "cell_type": "code",
      "metadata": {
        "id": "_nZHyzosckcx",
        "colab_type": "code",
        "colab": {}
      },
      "source": [
        "movie_title=(\"梨泰院\")"
      ],
      "execution_count": 0,
      "outputs": []
    },
    {
      "cell_type": "code",
      "metadata": {
        "id": "zke9IXq7dqal",
        "colab_type": "code",
        "colab": {}
      },
      "source": [
        "release_year=(\"2020\")"
      ],
      "execution_count": 0,
      "outputs": []
    },
    {
      "cell_type": "code",
      "metadata": {
        "id": "ei8tXNYqeA99",
        "colab_type": "code",
        "colab": {}
      },
      "source": [
        "movie_episode=(\"16\")"
      ],
      "execution_count": 0,
      "outputs": []
    },
    {
      "cell_type": "code",
      "metadata": {
        "id": "Jrb2WOVSeYVS",
        "colab_type": "code",
        "colab": {}
      },
      "source": [
        "movie_rating=(\"8.3\")"
      ],
      "execution_count": 0,
      "outputs": []
    },
    {
      "cell_type": "code",
      "metadata": {
        "id": "O0ADZLanelAy",
        "colab_type": "code",
        "colab": {}
      },
      "source": [
        "director_1=(\"金成允\")"
      ],
      "execution_count": 0,
      "outputs": []
    },
    {
      "cell_type": "code",
      "metadata": {
        "id": "B30X-F4EevXg",
        "colab_type": "code",
        "colab": {}
      },
      "source": [
        "director_2=(\"姜敏九\")"
      ],
      "execution_count": 0,
      "outputs": []
    },
    {
      "cell_type": "code",
      "metadata": {
        "id": "5cydyZ68fK93",
        "colab_type": "code",
        "colab": {}
      },
      "source": [
        "star_1=(\"朴敘俊\")"
      ],
      "execution_count": 0,
      "outputs": []
    },
    {
      "cell_type": "code",
      "metadata": {
        "id": "7quwHHK1fbcc",
        "colab_type": "code",
        "colab": {}
      },
      "source": [
        "star_2=(\"金多美\")"
      ],
      "execution_count": 0,
      "outputs": []
    },
    {
      "cell_type": "code",
      "metadata": {
        "id": "eORqxADLfg9I",
        "colab_type": "code",
        "colab": {}
      },
      "source": [
        "star_3=(\"權娜拉\")"
      ],
      "execution_count": 0,
      "outputs": []
    },
    {
      "cell_type": "code",
      "metadata": {
        "id": "k-hZoI1Ifrf7",
        "colab_type": "code",
        "colab": {}
      },
      "source": [
        "star_4=(\"劉在明\")"
      ],
      "execution_count": 0,
      "outputs": []
    },
    {
      "cell_type": "code",
      "metadata": {
        "id": "d5fHk6TyfydL",
        "colab_type": "code",
        "colab": {}
      },
      "source": [
        "like=1"
      ],
      "execution_count": 0,
      "outputs": []
    },
    {
      "cell_type": "code",
      "metadata": {
        "id": "UKFw-HBlf4x8",
        "colab_type": "code",
        "colab": {
          "base_uri": "https://localhost:8080/",
          "height": 34
        },
        "outputId": "c4b7348f-9dcd-4493-cd57-58779910bec3"
      },
      "source": [
        "print(movie_title)"
      ],
      "execution_count": 15,
      "outputs": [
        {
          "output_type": "stream",
          "text": [
            "梨泰院\n"
          ],
          "name": "stdout"
        }
      ]
    },
    {
      "cell_type": "code",
      "metadata": {
        "id": "t6qdhguLgAiH",
        "colab_type": "code",
        "colab": {
          "base_uri": "https://localhost:8080/",
          "height": 34
        },
        "outputId": "226fd9af-1ed0-431a-d251-5a2b2348ec3b"
      },
      "source": [
        "print(release_year)"
      ],
      "execution_count": 17,
      "outputs": [
        {
          "output_type": "stream",
          "text": [
            "2020\n"
          ],
          "name": "stdout"
        }
      ]
    },
    {
      "cell_type": "code",
      "metadata": {
        "id": "uHmwcpmVgHGQ",
        "colab_type": "code",
        "colab": {
          "base_uri": "https://localhost:8080/",
          "height": 34
        },
        "outputId": "03679a82-d23f-42e9-f53f-3321a5fb5459"
      },
      "source": [
        "print(movie_episode)"
      ],
      "execution_count": 18,
      "outputs": [
        {
          "output_type": "stream",
          "text": [
            "16\n"
          ],
          "name": "stdout"
        }
      ]
    },
    {
      "cell_type": "code",
      "metadata": {
        "id": "bnTAWA8FgnZ_",
        "colab_type": "code",
        "colab": {
          "base_uri": "https://localhost:8080/",
          "height": 34
        },
        "outputId": "d5ce42ae-dbea-4126-9009-e2b98098e47d"
      },
      "source": [
        "print(movie_rating)"
      ],
      "execution_count": 19,
      "outputs": [
        {
          "output_type": "stream",
          "text": [
            "8.3\n"
          ],
          "name": "stdout"
        }
      ]
    }
  ]
}